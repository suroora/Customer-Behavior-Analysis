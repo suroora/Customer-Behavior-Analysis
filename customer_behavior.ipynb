{
 "cells": [
  {
   "cell_type": "markdown",
   "id": "ff5b3f5c",
   "metadata": {},
   "source": [
    "<h2><center>Customer Behavior Analysis </h2></center>"
   ]
  },
  {
   "cell_type": "markdown",
   "id": "01e0aac6",
   "metadata": {},
   "source": [
    "##### Import Required Libraries"
   ]
  },
  {
   "cell_type": "code",
   "execution_count": 1,
   "id": "441f8337",
   "metadata": {},
   "outputs": [],
   "source": [
    "import numpy as np\n",
    "import pandas as pd\n",
    "import matplotlib.pyplot as plt\n",
    "import seaborn as sns\n",
    "import scipy.stats as stats\n",
    "from scipy.stats import ttest_ind\n",
    "\n",
    "import warnings\n",
    "warnings.filterwarnings('ignore')"
   ]
  },
  {
   "cell_type": "code",
   "execution_count": 2,
   "id": "36feff9a",
   "metadata": {},
   "outputs": [
    {
     "data": {
      "text/html": [
       "<div>\n",
       "<style scoped>\n",
       "    .dataframe tbody tr th:only-of-type {\n",
       "        vertical-align: middle;\n",
       "    }\n",
       "\n",
       "    .dataframe tbody tr th {\n",
       "        vertical-align: top;\n",
       "    }\n",
       "\n",
       "    .dataframe thead th {\n",
       "        text-align: right;\n",
       "    }\n",
       "</style>\n",
       "<table border=\"1\" class=\"dataframe\">\n",
       "  <thead>\n",
       "    <tr style=\"text-align: right;\">\n",
       "      <th></th>\n",
       "      <th>CustomerID</th>\n",
       "      <th>Gender</th>\n",
       "      <th>Region</th>\n",
       "      <th>PurchaseAmount</th>\n",
       "      <th>ProductCategory</th>\n",
       "      <th>Churn</th>\n",
       "      <th>CampaignGroup</th>\n",
       "    </tr>\n",
       "  </thead>\n",
       "  <tbody>\n",
       "    <tr>\n",
       "      <th>0</th>\n",
       "      <td>1001</td>\n",
       "      <td>Male</td>\n",
       "      <td>South</td>\n",
       "      <td>256.07</td>\n",
       "      <td>Fashion</td>\n",
       "      <td>No</td>\n",
       "      <td>A</td>\n",
       "    </tr>\n",
       "    <tr>\n",
       "      <th>1</th>\n",
       "      <td>1002</td>\n",
       "      <td>Female</td>\n",
       "      <td>South</td>\n",
       "      <td>NaN</td>\n",
       "      <td>Electronics</td>\n",
       "      <td>Yes</td>\n",
       "      <td>B</td>\n",
       "    </tr>\n",
       "    <tr>\n",
       "      <th>2</th>\n",
       "      <td>1003</td>\n",
       "      <td>Female</td>\n",
       "      <td>West</td>\n",
       "      <td>1194.41</td>\n",
       "      <td>Fashion</td>\n",
       "      <td>No</td>\n",
       "      <td>A</td>\n",
       "    </tr>\n",
       "    <tr>\n",
       "      <th>3</th>\n",
       "      <td>1004</td>\n",
       "      <td>Female</td>\n",
       "      <td>South</td>\n",
       "      <td>413.06</td>\n",
       "      <td>Grocery</td>\n",
       "      <td>No</td>\n",
       "      <td>A</td>\n",
       "    </tr>\n",
       "    <tr>\n",
       "      <th>4</th>\n",
       "      <td>1005</td>\n",
       "      <td>Male</td>\n",
       "      <td>West</td>\n",
       "      <td>1556.32</td>\n",
       "      <td>Fashion</td>\n",
       "      <td>Yes</td>\n",
       "      <td>A</td>\n",
       "    </tr>\n",
       "  </tbody>\n",
       "</table>\n",
       "</div>"
      ],
      "text/plain": [
       "   CustomerID  Gender Region  PurchaseAmount ProductCategory Churn  \\\n",
       "0        1001    Male  South          256.07         Fashion    No   \n",
       "1        1002  Female  South             NaN     Electronics   Yes   \n",
       "2        1003  Female   West         1194.41         Fashion    No   \n",
       "3        1004  Female  South          413.06         Grocery    No   \n",
       "4        1005    Male   West         1556.32         Fashion   Yes   \n",
       "\n",
       "  CampaignGroup  \n",
       "0             A  \n",
       "1             B  \n",
       "2             A  \n",
       "3             A  \n",
       "4             A  "
      ]
     },
     "execution_count": 2,
     "metadata": {},
     "output_type": "execute_result"
    }
   ],
   "source": [
    "df = pd.read_csv(\"customer_behavior.csv\")\n",
    "df.head(5)"
   ]
  },
  {
   "cell_type": "code",
   "execution_count": 3,
   "id": "0ce12b11",
   "metadata": {},
   "outputs": [
    {
     "data": {
      "text/plain": [
       "(5000, 7)"
      ]
     },
     "execution_count": 3,
     "metadata": {},
     "output_type": "execute_result"
    }
   ],
   "source": [
    "df.shape"
   ]
  },
  {
   "cell_type": "code",
   "execution_count": 4,
   "id": "af37c64c",
   "metadata": {},
   "outputs": [
    {
     "name": "stdout",
     "output_type": "stream",
     "text": [
      "<class 'pandas.core.frame.DataFrame'>\n",
      "RangeIndex: 5000 entries, 0 to 4999\n",
      "Data columns (total 7 columns):\n",
      " #   Column           Non-Null Count  Dtype  \n",
      "---  ------           --------------  -----  \n",
      " 0   CustomerID       5000 non-null   int64  \n",
      " 1   Gender           4903 non-null   object \n",
      " 2   Region           4825 non-null   object \n",
      " 3   PurchaseAmount   4850 non-null   float64\n",
      " 4   ProductCategory  4474 non-null   object \n",
      " 5   Churn            4735 non-null   object \n",
      " 6   CampaignGroup    4815 non-null   object \n",
      "dtypes: float64(1), int64(1), object(5)\n",
      "memory usage: 273.6+ KB\n"
     ]
    }
   ],
   "source": [
    "df.info()"
   ]
  },
  {
   "cell_type": "code",
   "execution_count": 5,
   "id": "2aad4aaa",
   "metadata": {},
   "outputs": [
    {
     "data": {
      "text/html": [
       "<div>\n",
       "<style scoped>\n",
       "    .dataframe tbody tr th:only-of-type {\n",
       "        vertical-align: middle;\n",
       "    }\n",
       "\n",
       "    .dataframe tbody tr th {\n",
       "        vertical-align: top;\n",
       "    }\n",
       "\n",
       "    .dataframe thead th {\n",
       "        text-align: right;\n",
       "    }\n",
       "</style>\n",
       "<table border=\"1\" class=\"dataframe\">\n",
       "  <thead>\n",
       "    <tr style=\"text-align: right;\">\n",
       "      <th></th>\n",
       "      <th>CustomerID</th>\n",
       "      <th>PurchaseAmount</th>\n",
       "    </tr>\n",
       "  </thead>\n",
       "  <tbody>\n",
       "    <tr>\n",
       "      <th>count</th>\n",
       "      <td>5000.000000</td>\n",
       "      <td>4850.000000</td>\n",
       "    </tr>\n",
       "    <tr>\n",
       "      <th>mean</th>\n",
       "      <td>3500.500000</td>\n",
       "      <td>1003.950670</td>\n",
       "    </tr>\n",
       "    <tr>\n",
       "      <th>std</th>\n",
       "      <td>1443.520003</td>\n",
       "      <td>482.113122</td>\n",
       "    </tr>\n",
       "    <tr>\n",
       "      <th>min</th>\n",
       "      <td>1001.000000</td>\n",
       "      <td>0.000000</td>\n",
       "    </tr>\n",
       "    <tr>\n",
       "      <th>25%</th>\n",
       "      <td>2250.750000</td>\n",
       "      <td>673.642500</td>\n",
       "    </tr>\n",
       "    <tr>\n",
       "      <th>50%</th>\n",
       "      <td>3500.500000</td>\n",
       "      <td>998.080000</td>\n",
       "    </tr>\n",
       "    <tr>\n",
       "      <th>75%</th>\n",
       "      <td>4750.250000</td>\n",
       "      <td>1327.077500</td>\n",
       "    </tr>\n",
       "    <tr>\n",
       "      <th>max</th>\n",
       "      <td>6000.000000</td>\n",
       "      <td>2688.880000</td>\n",
       "    </tr>\n",
       "  </tbody>\n",
       "</table>\n",
       "</div>"
      ],
      "text/plain": [
       "        CustomerID  PurchaseAmount\n",
       "count  5000.000000     4850.000000\n",
       "mean   3500.500000     1003.950670\n",
       "std    1443.520003      482.113122\n",
       "min    1001.000000        0.000000\n",
       "25%    2250.750000      673.642500\n",
       "50%    3500.500000      998.080000\n",
       "75%    4750.250000     1327.077500\n",
       "max    6000.000000     2688.880000"
      ]
     },
     "execution_count": 5,
     "metadata": {},
     "output_type": "execute_result"
    }
   ],
   "source": [
    "df.describe()"
   ]
  },
  {
   "cell_type": "code",
   "execution_count": 6,
   "id": "aa3e9c84",
   "metadata": {},
   "outputs": [
    {
     "data": {
      "text/plain": [
       "CustomerID           0\n",
       "Gender              97\n",
       "Region             175\n",
       "PurchaseAmount     150\n",
       "ProductCategory    526\n",
       "Churn              265\n",
       "CampaignGroup      185\n",
       "dtype: int64"
      ]
     },
     "execution_count": 6,
     "metadata": {},
     "output_type": "execute_result"
    }
   ],
   "source": [
    "# Handle missing values\n",
    "df.isnull().sum()"
   ]
  },
  {
   "cell_type": "markdown",
   "id": "928aa7b1",
   "metadata": {},
   "source": [
    "Since Churn is the target column, missing values mean we don’t know the outcome. Here we  cannot impute with mean, median, or mode because, Its categorical Yes or No . Guessing Yes/No can introduce bias in our Data , The Best we can do here Drop rows with missing target values."
   ]
  },
  {
   "cell_type": "code",
   "execution_count": 7,
   "id": "51099000",
   "metadata": {},
   "outputs": [],
   "source": [
    "df = df.dropna(subset='Churn')"
   ]
  },
  {
   "cell_type": "markdown",
   "id": "3084844b",
   "metadata": {},
   "source": [
    "In ProductCategory has 526 missing values ,droping these much data is not possible , it will effect our outcome , insted we can create a new category named **Unknown**. maybe these customers didn’t provide product info because they’re less engaged. If we overwrite it with the most common category, we have lose that signal something about the customer."
   ]
  },
  {
   "cell_type": "code",
   "execution_count": 8,
   "id": "18641d2f",
   "metadata": {},
   "outputs": [],
   "source": [
    "# fillna with \"Unknown\" category\n",
    "df[\"ProductCategory\"].fillna('Unknown', inplace=True)"
   ]
  },
  {
   "cell_type": "code",
   "execution_count": 9,
   "id": "33e08f2f",
   "metadata": {},
   "outputs": [
    {
     "data": {
      "text/plain": [
       "np.int64(0)"
      ]
     },
     "execution_count": 9,
     "metadata": {},
     "output_type": "execute_result"
    }
   ],
   "source": [
    "df['ProductCategory'].isnull().sum()"
   ]
  },
  {
   "cell_type": "code",
   "execution_count": 10,
   "id": "d827d8e6",
   "metadata": {},
   "outputs": [
    {
     "data": {
      "text/plain": [
       "ProductCategory\n",
       "Grocery        1459\n",
       "Fashion        1446\n",
       "Electronics    1326\n",
       "Unknown         504\n",
       "Name: count, dtype: int64"
      ]
     },
     "execution_count": 10,
     "metadata": {},
     "output_type": "execute_result"
    }
   ],
   "source": [
    "df['ProductCategory'].value_counts()"
   ]
  },
  {
   "cell_type": "code",
   "execution_count": 11,
   "id": "55179cc5",
   "metadata": {},
   "outputs": [],
   "source": [
    "# fillna in gender,Region and CampaignGroup with mode\n",
    "df['Gender'].fillna(df['Gender'].mode()[0],inplace=True)\n",
    "df['Region'].fillna(df['Region'].mode()[0],inplace=True)\n",
    "df['CampaignGroup'].fillna(df['CampaignGroup'].mode()[0], inplace=True)"
   ]
  },
  {
   "cell_type": "code",
   "execution_count": 12,
   "id": "c9c1a8e7",
   "metadata": {},
   "outputs": [
    {
     "data": {
      "text/plain": [
       "Gender           0\n",
       "Region           0\n",
       "CampaignGroup    0\n",
       "dtype: int64"
      ]
     },
     "execution_count": 12,
     "metadata": {},
     "output_type": "execute_result"
    }
   ],
   "source": [
    "df[['Gender','Region','CampaignGroup']].isnull().sum()"
   ]
  },
  {
   "cell_type": "code",
   "execution_count": 13,
   "id": "b295521d",
   "metadata": {},
   "outputs": [],
   "source": [
    "# fillna in PurchaseAmount with median\n",
    "df['PurchaseAmount'].fillna(df['PurchaseAmount'].median(),inplace=True)"
   ]
  },
  {
   "cell_type": "code",
   "execution_count": 14,
   "id": "b7279902",
   "metadata": {},
   "outputs": [
    {
     "data": {
      "text/plain": [
       "CustomerID         0\n",
       "Gender             0\n",
       "Region             0\n",
       "PurchaseAmount     0\n",
       "ProductCategory    0\n",
       "Churn              0\n",
       "CampaignGroup      0\n",
       "dtype: int64"
      ]
     },
     "execution_count": 14,
     "metadata": {},
     "output_type": "execute_result"
    }
   ],
   "source": [
    "df.isnull().sum()"
   ]
  },
  {
   "cell_type": "markdown",
   "id": "efc854cc",
   "metadata": {},
   "source": [
    "#### Q1. What is the average, median, and mode of PurchaseAmount?"
   ]
  },
  {
   "cell_type": "code",
   "execution_count": 15,
   "id": "fc7ca35e",
   "metadata": {},
   "outputs": [],
   "source": [
    "summary = pd.DataFrame(\n",
    "    {\n",
    "        'Average':[df['PurchaseAmount'].mean()],\n",
    "        'Median':[df['PurchaseAmount'].median()],\n",
    "        'Mode' :[df['PurchaseAmount'].mode()[0]]\n",
    "    }\n",
    ")"
   ]
  },
  {
   "cell_type": "code",
   "execution_count": 16,
   "id": "b1036f1e",
   "metadata": {},
   "outputs": [
    {
     "data": {
      "text/html": [
       "<div>\n",
       "<style scoped>\n",
       "    .dataframe tbody tr th:only-of-type {\n",
       "        vertical-align: middle;\n",
       "    }\n",
       "\n",
       "    .dataframe tbody tr th {\n",
       "        vertical-align: top;\n",
       "    }\n",
       "\n",
       "    .dataframe thead th {\n",
       "        text-align: right;\n",
       "    }\n",
       "</style>\n",
       "<table border=\"1\" class=\"dataframe\">\n",
       "  <thead>\n",
       "    <tr style=\"text-align: right;\">\n",
       "      <th></th>\n",
       "      <th>Average</th>\n",
       "      <th>Median</th>\n",
       "      <th>Mode</th>\n",
       "    </tr>\n",
       "  </thead>\n",
       "  <tbody>\n",
       "    <tr>\n",
       "      <th>0</th>\n",
       "      <td>1002.553977</td>\n",
       "      <td>996.42</td>\n",
       "      <td>996.42</td>\n",
       "    </tr>\n",
       "  </tbody>\n",
       "</table>\n",
       "</div>"
      ],
      "text/plain": [
       "       Average  Median    Mode\n",
       "0  1002.553977  996.42  996.42"
      ]
     },
     "execution_count": 16,
     "metadata": {},
     "output_type": "execute_result"
    }
   ],
   "source": [
    "summary"
   ]
  },
  {
   "cell_type": "code",
   "execution_count": 17,
   "id": "8b166e1f",
   "metadata": {},
   "outputs": [
    {
     "data": {
      "text/plain": [
       "count    4735.000000\n",
       "mean     1002.553977\n",
       "std       476.161129\n",
       "min         0.000000\n",
       "25%       683.195000\n",
       "50%       996.420000\n",
       "75%      1315.860000\n",
       "max      2688.880000\n",
       "Name: PurchaseAmount, dtype: float64"
      ]
     },
     "execution_count": 17,
     "metadata": {},
     "output_type": "execute_result"
    }
   ],
   "source": [
    "df['PurchaseAmount'].describe()"
   ]
  },
  {
   "cell_type": "markdown",
   "id": "f2ac5309",
   "metadata": {},
   "source": [
    "##### Q2. Are there any outliers in the PurchaseAmount data?"
   ]
  },
  {
   "cell_type": "code",
   "execution_count": 18,
   "id": "3a2d1af2",
   "metadata": {},
   "outputs": [
    {
     "data": {
      "text/plain": [
       "(np.float64(683.1949999999999),\n",
       " np.float64(996.4200000000001),\n",
       " np.float64(1315.86))"
      ]
     },
     "execution_count": 18,
     "metadata": {},
     "output_type": "execute_result"
    }
   ],
   "source": [
    "# Outlier handle using IQR method\n",
    "\n",
    "q1,q2,q3 =np.percentile(df['PurchaseAmount'],[25,50,75])\n",
    "q1,q2,q3"
   ]
  },
  {
   "cell_type": "code",
   "execution_count": 19,
   "id": "3521b2c6",
   "metadata": {},
   "outputs": [
    {
     "name": "stdout",
     "output_type": "stream",
     "text": [
      "upper_bound 2264.8575 \n",
      "lower_bound -265.8025\n"
     ]
    }
   ],
   "source": [
    "IQR = q3 -q1\n",
    "upper_bound = q3 + 1.5*IQR\n",
    "lower_bound = q1 - 1.5*IQR\n",
    "print(\"upper_bound\" ,upper_bound ,\"\\nlower_bound\",lower_bound)"
   ]
  },
  {
   "cell_type": "code",
   "execution_count": 20,
   "id": "5c22b639",
   "metadata": {},
   "outputs": [
    {
     "data": {
      "text/html": [
       "<div>\n",
       "<style scoped>\n",
       "    .dataframe tbody tr th:only-of-type {\n",
       "        vertical-align: middle;\n",
       "    }\n",
       "\n",
       "    .dataframe tbody tr th {\n",
       "        vertical-align: top;\n",
       "    }\n",
       "\n",
       "    .dataframe thead th {\n",
       "        text-align: right;\n",
       "    }\n",
       "</style>\n",
       "<table border=\"1\" class=\"dataframe\">\n",
       "  <thead>\n",
       "    <tr style=\"text-align: right;\">\n",
       "      <th></th>\n",
       "      <th>CustomerID</th>\n",
       "      <th>Gender</th>\n",
       "      <th>Region</th>\n",
       "      <th>PurchaseAmount</th>\n",
       "      <th>ProductCategory</th>\n",
       "      <th>Churn</th>\n",
       "      <th>CampaignGroup</th>\n",
       "    </tr>\n",
       "  </thead>\n",
       "  <tbody>\n",
       "    <tr>\n",
       "      <th>195</th>\n",
       "      <td>1196</td>\n",
       "      <td>Male</td>\n",
       "      <td>West</td>\n",
       "      <td>2318.33</td>\n",
       "      <td>Fashion</td>\n",
       "      <td>Yes</td>\n",
       "      <td>B</td>\n",
       "    </tr>\n",
       "    <tr>\n",
       "      <th>265</th>\n",
       "      <td>1266</td>\n",
       "      <td>Female</td>\n",
       "      <td>East</td>\n",
       "      <td>2496.41</td>\n",
       "      <td>Electronics</td>\n",
       "      <td>Yes</td>\n",
       "      <td>B</td>\n",
       "    </tr>\n",
       "    <tr>\n",
       "      <th>348</th>\n",
       "      <td>1349</td>\n",
       "      <td>Male</td>\n",
       "      <td>South</td>\n",
       "      <td>2688.69</td>\n",
       "      <td>Electronics</td>\n",
       "      <td>Yes</td>\n",
       "      <td>A</td>\n",
       "    </tr>\n",
       "    <tr>\n",
       "      <th>411</th>\n",
       "      <td>1412</td>\n",
       "      <td>Female</td>\n",
       "      <td>South</td>\n",
       "      <td>2349.16</td>\n",
       "      <td>Fashion</td>\n",
       "      <td>Yes</td>\n",
       "      <td>A</td>\n",
       "    </tr>\n",
       "    <tr>\n",
       "      <th>442</th>\n",
       "      <td>1443</td>\n",
       "      <td>Male</td>\n",
       "      <td>North</td>\n",
       "      <td>2291.79</td>\n",
       "      <td>Grocery</td>\n",
       "      <td>Yes</td>\n",
       "      <td>B</td>\n",
       "    </tr>\n",
       "  </tbody>\n",
       "</table>\n",
       "</div>"
      ],
      "text/plain": [
       "     CustomerID  Gender Region  PurchaseAmount ProductCategory Churn  \\\n",
       "195        1196    Male   West         2318.33         Fashion   Yes   \n",
       "265        1266  Female   East         2496.41     Electronics   Yes   \n",
       "348        1349    Male  South         2688.69     Electronics   Yes   \n",
       "411        1412  Female  South         2349.16         Fashion   Yes   \n",
       "442        1443    Male  North         2291.79         Grocery   Yes   \n",
       "\n",
       "    CampaignGroup  \n",
       "195             B  \n",
       "265             B  \n",
       "348             A  \n",
       "411             A  \n",
       "442             B  "
      ]
     },
     "execution_count": 20,
     "metadata": {},
     "output_type": "execute_result"
    }
   ],
   "source": [
    "out_lier = df[(df['PurchaseAmount'] > upper_bound) |(df['PurchaseAmount'] < lower_bound) ]\n",
    "out_lier.head()"
   ]
  },
  {
   "cell_type": "code",
   "execution_count": 21,
   "id": "da470352",
   "metadata": {},
   "outputs": [
    {
     "data": {
      "image/png": "[encoded data removed]",
      "text/plain": [
       "<Figure size 1000x500 with 1 Axes>"
      ]
     },
     "metadata": {},
     "output_type": "display_data"
    },
    {
     "data": {
      "text/plain": [
       "22"
      ]
     },
     "execution_count": 21,
     "metadata": {},
     "output_type": "execute_result"
    }
   ],
   "source": [
    "#Visualization using Boxplot\n",
    "\n",
    "plt.figure(figsize=(10,5))\n",
    "plt.boxplot(df['PurchaseAmount'] , vert=False)\n",
    "\n",
    "# Overlay outliers in red\n",
    "\n",
    "plt.scatter(out_lier['PurchaseAmount'],[1]*len(out_lier),color='blue',label='Outliers')\n",
    "plt.legend()\n",
    "plt.show()\n",
    "\n",
    "len(out_lier)\n"
   ]
  },
  {
   "cell_type": "markdown",
   "id": "f86a9b07",
   "metadata": {},
   "source": [
    "Here i keep this outliers because in churn they are premium customer"
   ]
  },
  {
   "cell_type": "markdown",
   "id": "241827d7",
   "metadata": {},
   "source": [
    "##### Q3. Is there any skewness or kurtosis in the PurchaseAmount distribution?"
   ]
  },
  {
   "cell_type": "code",
   "execution_count": 22,
   "id": "a12ce19d",
   "metadata": {},
   "outputs": [
    {
     "name": "stdout",
     "output_type": "stream",
     "text": [
      "skewness : 0.11247295587844357 \n",
      "kurtosis : -0.17635023213189038\n"
     ]
    }
   ],
   "source": [
    "print(\"skewness :\",df['PurchaseAmount'].skew(),\"\\nkurtosis :\",df['PurchaseAmount'].kurt())"
   ]
  },
  {
   "cell_type": "code",
   "execution_count": 23,
   "id": "5df17755",
   "metadata": {},
   "outputs": [
    {
     "data": {
      "image/png": "[encoded data removed]",
      "text/plain": [
       "<Figure size 640x480 with 1 Axes>"
      ]
     },
     "metadata": {},
     "output_type": "display_data"
    }
   ],
   "source": [
    "# visualisation\n",
    "plt.Figure(figsize=(10,6))\n",
    "sns.histplot(df[\"PurchaseAmount\"],kde=True)\n",
    "plt.title('Distribution of PurchaseAmount')\n",
    "plt.xlabel('PurchaseAmount')\n",
    "plt.ylabel('Frequency')\n",
    "plt.axvline(df['PurchaseAmount'].mean(), color='r', linestyle='--', label='Mean')\n",
    "plt.axvline(df['PurchaseAmount'].median(), color='g', linestyle='-', label='Median')\n",
    "plt.legend()\n",
    "plt.show()"
   ]
  },
  {
   "cell_type": "markdown",
   "id": "8b536661",
   "metadata": {},
   "source": [
    "The distribution is positively skewed (right-skewed):\n",
    "\n",
    "-   Tail extends further to the right (higher purchase amounts).\n",
    "\n",
    "-   Most data points are clustered on the lower end.\n",
    "\n",
    "Spread / Kurtosis:\n",
    "\n",
    "-   The histogram is moderately peaked, with a long right tail.\n",
    "\n",
    "-   The tail suggests potential outliers or high-value purchases, contributing to skewness.\n",
    "\n",
    "-   Since the peak isn’t extremely sharp or flat, the kurtosis is likely around normal (close to 3) but slightly affected by the tail.\n",
    "\n",
    "Key Insights\n",
    "\n",
    "-   Most customers spend around the median (996.42).\n",
    "\n",
    "-   A few customers make very high purchases (~2264.85–2500), which pulls the mean up."
   ]
  },
  {
   "cell_type": "markdown",
   "id": "17a655b1",
   "metadata": {},
   "source": [
    "##### Q4. Is there a significant difference in spending between male and female customers?"
   ]
  },
  {
   "cell_type": "code",
   "execution_count": 24,
   "id": "19c0e863",
   "metadata": {},
   "outputs": [
    {
     "name": "stdout",
     "output_type": "stream",
     "text": [
      "Gender\n",
      "Female     986.635617\n",
      "Male      1017.820323\n",
      "Name: PurchaseAmount, dtype: float64\n"
     ]
    }
   ],
   "source": [
    "avg_spending = df.groupby(\"Gender\")[\"PurchaseAmount\"].mean()\n",
    "print(avg_spending)"
   ]
  },
  {
   "cell_type": "code",
   "execution_count": 25,
   "id": "f6a15a2e",
   "metadata": {},
   "outputs": [
    {
     "name": "stdout",
     "output_type": "stream",
     "text": [
      "t-statistic: 2.252824391502622\n",
      "p-value: 0.024316010450431264\n",
      "There is a significant difference in spending between male and female customers.\n"
     ]
    }
   ],
   "source": [
    "male_spending = df[df[\"Gender\"] == 'Male'][\"PurchaseAmount\"]\n",
    "Female_spending = df[df[\"Gender\"] == 'Female'][\"PurchaseAmount\"]\n",
    "\n",
    "t_test,p_value =ttest_ind(male_spending,Female_spending, equal_var=False)\n",
    "print(\"t-statistic:\", t_test)\n",
    "print(\"p-value:\", p_value)\n",
    "\n",
    "if p_value < 0.05:\n",
    "    print(\"There is a significant difference in spending between male and female customers.\")\n",
    "else:\n",
    "    print(\" No significant difference in spending between male and female customers.\")"
   ]
  },
  {
   "cell_type": "markdown",
   "id": "56f0d7d4",
   "metadata": {},
   "source": [
    "**Conclusion:**\n",
    "The t-test result (t = 2.25, p = 0.024) indicates that the difference in spending between male and female customers is statistically significant at the 5% level. This means that male and female customers show meaningfully different spending patterns, and the observed difference is unlikely due to random chance."
   ]
  },
  {
   "cell_type": "markdown",
   "id": "d8b0f5da",
   "metadata": {},
   "source": [
    "##### Q5. Is there a relationship between ProductCategory and customer churn?"
   ]
  },
  {
   "cell_type": "code",
   "execution_count": 26,
   "id": "6a5d5f59",
   "metadata": {},
   "outputs": [
    {
     "name": "stdout",
     "output_type": "stream",
     "text": [
      "Chi-square: 2.6925849449470283\n",
      "p-value: 0.44148887641867696\n",
      "No significant relationship between ProductCategory and customer churn.\n"
     ]
    }
   ],
   "source": [
    "from scipy.stats import chi2_contingency\n",
    "\n",
    "# Create contingency table\n",
    "cont_table = pd.crosstab(df['ProductCategory'], df['Churn'])\n",
    "# Run chi-square test\n",
    "chi2, p, dof, expected = chi2_contingency(cont_table)\n",
    "\n",
    "print(\"Chi-square:\", chi2)\n",
    "print(\"p-value:\", p)\n",
    "\n",
    "if p < 0.05:\n",
    "    print(\"There is a significant relationship between ProductCategory and customer churn.\")\n",
    "else:\n",
    "    print(\"No significant relationship between ProductCategory and customer churn.\")"
   ]
  },
  {
   "cell_type": "code",
   "execution_count": 27,
   "id": "fb2d2b6f",
   "metadata": {},
   "outputs": [
    {
     "data": {
      "image/png": "[encoded data removed]",
      "text/plain": [
       "<Figure size 640x480 with 1 Axes>"
      ]
     },
     "metadata": {},
     "output_type": "display_data"
    }
   ],
   "source": [
    "# visualization\n",
    "sns.countplot(x='ProductCategory', hue='Churn', data=df)\n",
    "plt.title(\"Customer Churn by Product Category\")\n",
    "plt.show()"
   ]
  },
  {
   "cell_type": "markdown",
   "id": "a68053de",
   "metadata": {},
   "source": [
    "##### Q6. Does PurchaseAmount vary significantly across different regions?"
   ]
  },
  {
   "cell_type": "code",
   "execution_count": 28,
   "id": "dc2ac926",
   "metadata": {},
   "outputs": [
    {
     "data": {
      "text/plain": [
       "Region\n",
       "East     1010.080225\n",
       "North    1009.354347\n",
       "South     999.316739\n",
       "West      991.365436\n",
       "Name: PurchaseAmount, dtype: float64"
      ]
     },
     "execution_count": 28,
     "metadata": {},
     "output_type": "execute_result"
    }
   ],
   "source": [
    "df.groupby('Region')['PurchaseAmount'].mean()"
   ]
  },
  {
   "cell_type": "code",
   "execution_count": 38,
   "id": "17300ab9",
   "metadata": {},
   "outputs": [
    {
     "name": "stdout",
     "output_type": "stream",
     "text": [
      "F-statistic: 0.3954023092257695\n",
      "p-value: 0.7563199317524769\n",
      " No significant variation in PurchaseAmount across regions.\n"
     ]
    }
   ],
   "source": [
    "from scipy.stats import f_oneway\n",
    "\n",
    "north = df[df['Region'] == 'North']['PurchaseAmount']\n",
    "south = df[df['Region'] == 'South']['PurchaseAmount']\n",
    "west =  df[df['Region'] == 'West']['PurchaseAmount']\n",
    "east = df[df['Region'] == 'East']['PurchaseAmount']\n",
    "\n",
    "f_stat,p_valu = f_oneway(north,south,west,east)\n",
    "\n",
    "print(\"F-statistic:\", f_stat)\n",
    "print(\"p-value:\", p_valu)\n",
    "\n",
    "\n",
    "if p_valu < 0.05:\n",
    "    print(\" PurchaseAmount varies significantly across regions.\")\n",
    "else:\n",
    "    print(\" No significant variation in PurchaseAmount across regions.\")"
   ]
  },
  {
   "cell_type": "code",
   "execution_count": 39,
   "id": "696f6ad7",
   "metadata": {},
   "outputs": [
    {
     "data": {
      "image/png": "[encoded data removed]",
      "text/plain": [
       "<Figure size 640x480 with 1 Axes>"
      ]
     },
     "metadata": {},
     "output_type": "display_data"
    }
   ],
   "source": [
    "#visualisation\n",
    "\n",
    "sns.boxplot(x=\"Region\", y=\"PurchaseAmount\", data=df)\n",
    "plt.title(\"Purchase Amount by Region\")\n",
    "plt.show()"
   ]
  },
  {
   "cell_type": "markdown",
   "id": "c68dd684",
   "metadata": {},
   "source": [
    "**Conclusion:**\n",
    "The ANOVA test result (F = 0.40, p = 0.756) shows no statistically significant variation in purchase amounts across different regions. This indicates that regional differences do not have a meaningful impact on customer spending in this dataset."
   ]
  },
  {
   "cell_type": "markdown",
   "id": "f8f8a712",
   "metadata": {},
   "source": [
    "##### Q7. Which email campaign (A or B) performed better in terms of average PurchaseAmount?"
   ]
  },
  {
   "cell_type": "code",
   "execution_count": 40,
   "id": "911c212e",
   "metadata": {},
   "outputs": [
    {
     "data": {
      "text/html": [
       "<div>\n",
       "<style scoped>\n",
       "    .dataframe tbody tr th:only-of-type {\n",
       "        vertical-align: middle;\n",
       "    }\n",
       "\n",
       "    .dataframe tbody tr th {\n",
       "        vertical-align: top;\n",
       "    }\n",
       "\n",
       "    .dataframe thead th {\n",
       "        text-align: right;\n",
       "    }\n",
       "</style>\n",
       "<table border=\"1\" class=\"dataframe\">\n",
       "  <thead>\n",
       "    <tr style=\"text-align: right;\">\n",
       "      <th></th>\n",
       "      <th>CustomerID</th>\n",
       "      <th>Gender</th>\n",
       "      <th>Region</th>\n",
       "      <th>PurchaseAmount</th>\n",
       "      <th>ProductCategory</th>\n",
       "      <th>Churn</th>\n",
       "      <th>CampaignGroup</th>\n",
       "    </tr>\n",
       "  </thead>\n",
       "  <tbody>\n",
       "    <tr>\n",
       "      <th>0</th>\n",
       "      <td>1001</td>\n",
       "      <td>Male</td>\n",
       "      <td>South</td>\n",
       "      <td>256.07</td>\n",
       "      <td>Fashion</td>\n",
       "      <td>No</td>\n",
       "      <td>A</td>\n",
       "    </tr>\n",
       "    <tr>\n",
       "      <th>1</th>\n",
       "      <td>1002</td>\n",
       "      <td>Female</td>\n",
       "      <td>South</td>\n",
       "      <td>996.42</td>\n",
       "      <td>Electronics</td>\n",
       "      <td>Yes</td>\n",
       "      <td>B</td>\n",
       "    </tr>\n",
       "    <tr>\n",
       "      <th>2</th>\n",
       "      <td>1003</td>\n",
       "      <td>Female</td>\n",
       "      <td>West</td>\n",
       "      <td>1194.41</td>\n",
       "      <td>Fashion</td>\n",
       "      <td>No</td>\n",
       "      <td>A</td>\n",
       "    </tr>\n",
       "    <tr>\n",
       "      <th>3</th>\n",
       "      <td>1004</td>\n",
       "      <td>Female</td>\n",
       "      <td>South</td>\n",
       "      <td>413.06</td>\n",
       "      <td>Grocery</td>\n",
       "      <td>No</td>\n",
       "      <td>A</td>\n",
       "    </tr>\n",
       "    <tr>\n",
       "      <th>4</th>\n",
       "      <td>1005</td>\n",
       "      <td>Male</td>\n",
       "      <td>West</td>\n",
       "      <td>1556.32</td>\n",
       "      <td>Fashion</td>\n",
       "      <td>Yes</td>\n",
       "      <td>A</td>\n",
       "    </tr>\n",
       "  </tbody>\n",
       "</table>\n",
       "</div>"
      ],
      "text/plain": [
       "   CustomerID  Gender Region  PurchaseAmount ProductCategory Churn  \\\n",
       "0        1001    Male  South          256.07         Fashion    No   \n",
       "1        1002  Female  South          996.42     Electronics   Yes   \n",
       "2        1003  Female   West         1194.41         Fashion    No   \n",
       "3        1004  Female  South          413.06         Grocery    No   \n",
       "4        1005    Male   West         1556.32         Fashion   Yes   \n",
       "\n",
       "  CampaignGroup  \n",
       "0             A  \n",
       "1             B  \n",
       "2             A  \n",
       "3             A  \n",
       "4             A  "
      ]
     },
     "execution_count": 40,
     "metadata": {},
     "output_type": "execute_result"
    }
   ],
   "source": [
    "df.head()"
   ]
  },
  {
   "cell_type": "code",
   "execution_count": 42,
   "id": "950d3036",
   "metadata": {},
   "outputs": [
    {
     "name": "stdout",
     "output_type": "stream",
     "text": [
      "t_test 1.4767187276838767\n",
      "p_value 0.13981757907208942\n",
      "there is no significant diffrence between A and B companign  \n"
     ]
    }
   ],
   "source": [
    "A = df[df['CampaignGroup'] == 'A']['PurchaseAmount']\n",
    "B = df[df['CampaignGroup'] == 'B']['PurchaseAmount']\n",
    "\n",
    "t_test,p_valu = ttest_ind(A,B)\n",
    "\n",
    "print(\"t_test\" , t_test)\n",
    "print(\"p_value\" , p_valu)\n",
    "\n",
    "if p_valu < 0.05:\n",
    "    print(\"there is a significant diffrent between A and B email Campanign\")\n",
    "else:\n",
    "    print(\"there is no significant diffrence between A and B companign  \")"
   ]
  },
  {
   "cell_type": "markdown",
   "id": "26959506",
   "metadata": {},
   "source": [
    "**Conclusion:**\n",
    "The t-test result (t = 1.48, p = 0.14) shows no statistically significant difference in average purchase amounts between Campaign A and Campaign B. This means both campaigns performed similarly in terms of driving customer spending."
   ]
  },
  {
   "cell_type": "markdown",
   "id": "0d2c1547",
   "metadata": {},
   "source": [
    "#### Q8. Can we assume PurchaseAmount follows a normal distribution?"
   ]
  },
  {
   "cell_type": "code",
   "execution_count": 46,
   "id": "264a63bc",
   "metadata": {},
   "outputs": [
    {
     "data": {
      "image/png": "[encoded data removed]",
      "text/plain": [
       "<Figure size 600x500 with 1 Axes>"
      ]
     },
     "metadata": {},
     "output_type": "display_data"
    },
    {
     "data": {
      "image/png": "[encoded data removed]",
      "text/plain": [
       "<Figure size 640x480 with 1 Axes>"
      ]
     },
     "metadata": {},
     "output_type": "display_data"
    }
   ],
   "source": [
    "\n",
    "# Histogram with KDE curve\n",
    "plt.figure(figsize=(6,5))\n",
    "\n",
    "sns.histplot(df[\"PurchaseAmount\"], kde=True)\n",
    "plt.title(\"Histogram of PurchaseAmount\")\n",
    "plt.show()\n",
    "\n",
    "# Q-Q plot\n",
    "stats.probplot(df[\"PurchaseAmount\"], dist=\"norm\", plot=plt)\n",
    "plt.show()"
   ]
  },
  {
   "cell_type": "markdown",
   "id": "ef18a271",
   "metadata": {},
   "source": [
    "Histogram \n",
    "\n",
    "-   The histogram shows a roughly bell-shaped curve but with some skewness (a longer right tail).\n",
    "\n",
    "-   There are also some small irregularities around very low purchase amounts (close to 0).\n",
    "\n",
    "-   Overall, it looks close to normal but not perfect.\n",
    "\n",
    "Q-Q Plot:\n",
    "\n",
    "-   In a Q-Q plot, if data is normally distributed, the points should fall along the red diagonal line.\n",
    "\n",
    "-   In your case, most points lie on the line, but:\n",
    "\n",
    "    -   At the lower tail (left side), points deviate below the line.\n",
    "\n",
    "    -   At the upper tail (right side), points deviate above the line.\n",
    "\n",
    "-   This suggests some skewness and heavier tails compared to a perfect normal distribution."
   ]
  },
  {
   "cell_type": "markdown",
   "id": "7a1cd9cf",
   "metadata": {},
   "source": [
    "#### Q9. What insights can we gain by applying the Central Limit Theorem?"
   ]
  },
  {
   "cell_type": "markdown",
   "id": "acfabd04",
   "metadata": {},
   "source": [
    "##### Insights of the analysis\n",
    "\n",
    "-   Robust statistical testing\n",
    "        Even though PurchaseAmount is skewed, we can use parametric tests (t-test, ANOVA) safely on sample means because CLT ensures approximate normality for large n.\n",
    "\n",
    "-   Confidence intervals for spending\n",
    "We can estimate something like: “The average PurchaseAmount is $1050 ± 20 at 95% confidence”.\n",
    "This comes directly from CLT (mean ± margin of error).\n",
    "\n",
    "-   Stable business metrics\n",
    "Instead of worrying about outliers (like customers spending 2500+), CLT tells us the average customer purchase is predictable when using sufficiently large samples.\n",
    "\n",
    "##### conclusion:\n",
    "\n",
    "``Applying the Central Limit Theorem to the PurchaseAmount data shows that while individual spending amounts are skewed, the distribution of average spending across random samples approaches normality. This allows us to make reliable inferences using confidence intervals and hypothesis testing, and it assures us that the average purchase amount is a stable and predictable measure for business decision-making.``"
   ]
  },
  {
   "cell_type": "markdown",
   "id": "07d6967a",
   "metadata": {},
   "source": [
    "#### Q10.What is the 95% confidence interval for the average PurchaseAmount?"
   ]
  },
  {
   "cell_type": "code",
   "execution_count": 48,
   "id": "0abed31f",
   "metadata": {},
   "outputs": [
    {
     "name": "stdout",
     "output_type": "stream",
     "text": [
      "Mean: 1002.5539767687434\n",
      "95% Confidence Interval: (np.float64(988.9879368484573), np.float64(1016.1200166890295))\n"
     ]
    }
   ],
   "source": [
    "# confidential intervel of the purchaseamount\n",
    "# Sample size, mean, standard error\n",
    "n=len(df['PurchaseAmount'])\n",
    "mean_purchase = np.mean(df['PurchaseAmount'])\n",
    "sem = stats.sem(df['PurchaseAmount'])\n",
    "\n",
    "#95% confidential intervel\n",
    "confidence = 0.95\n",
    "ci = stats.t.interval(confidence , df=n-1 , loc=mean_purchase , scale= sem)\n",
    "\n",
    "print(\"Mean:\", mean_purchase)\n",
    "print(\"95% Confidence Interval:\", ci)"
   ]
  },
  {
   "cell_type": "markdown",
   "id": "dfce0db6",
   "metadata": {},
   "source": [
    "#### We are 95% confident that the true average purchase amount for all customers lies between $990 and $1018."
   ]
  },
  {
   "cell_type": "markdown",
   "id": "d97f37bf",
   "metadata": {},
   "source": [
    "\n",
    "\n",
    "***Average Spending (PurchaseAmount):***\n",
    "\n",
    "-  Customers spend around $1004 on average.\n",
    "\n",
    "-   With 95% confidence, the true mean lies between $990 – $1018.\n",
    "\n",
    "**Gender Differences:**\n",
    "\n",
    "-   A t-test showed a significant difference in spending between male and female customers.\n",
    "\n",
    "**Regional Differences:**\n",
    "\n",
    "-   ANOVA found no significant variation in PurchaseAmount across regions.\n",
    "\n",
    "**Product Category & Churn:**\n",
    "\n",
    "-   Chi-square test can be applied → results indicate whether churn likelihood is related to product choice.\n",
    "\n",
    " -  it looked like there may be some association, but not always strong\n",
    "\n",
    "**Campaign Performance (A vs B):**\n",
    "\n",
    "-   t-test showed no significant difference in PurchaseAmount between Campaign A and B.\n",
    "\n",
    "-    Both campaigns performed similarly.\n",
    "\n",
    "**Normality of PurchaseAmount:**\n",
    "\n",
    "-   Distribution is slightly skewed (not perfectly normal).\n",
    "\n",
    "-   But thanks to the Central Limit Theorem (CLT), sample means follow a normal distribution, allowing valid use of parametric tests.\n",
    "\n",
    "**Central Limit Theorem Insight:**\n",
    "\n",
    "-   Even though individual purchases vary a lot, the average purchase is stable and predictable with larger samples.\n",
    "\n",
    "##### Final Conclusion\n",
    "\n",
    "Customers spend about $1000 on average, and this estimate is statistically reliable. Gender impacts spending significantly, while region and campaign type do not. The Central Limit Theorem ensures that averages can be analyzed with confidence, even if raw spending data is skewed."
   ]
  },
  {
   "cell_type": "markdown",
   "id": "0ea7b7ee",
   "metadata": {},
   "source": []
  }
 ],
 "metadata": {
  "kernelspec": {
   "display_name": "env",
   "language": "python",
   "name": "python3"
  },
  "language_info": {
   "codemirror_mode": {
    "name": "ipython",
    "version": 3
   },
   "file_extension": ".py",
   "mimetype": "text/x-python",
   "name": "python",
   "nbconvert_exporter": "python",
   "pygments_lexer": "ipython3",
   "version": "3.13.5"
  }
 },
 "nbformat": 4,
 "nbformat_minor": 5
}
